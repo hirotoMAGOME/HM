{
  "nbformat": 4,
  "nbformat_minor": 0,
  "metadata": {
    "colab": {
      "name": "car(ver1.0).ipynb",
      "provenance": [],
      "include_colab_link": true
    },
    "kernelspec": {
      "name": "python3",
      "display_name": "Python 3"
    }
  },
  "cells": [
    {
      "cell_type": "markdown",
      "metadata": {
        "id": "view-in-github",
        "colab_type": "text"
      },
      "source": [
        "<a href=\"https://colab.research.google.com/github/hirotoMAGOME/HM/blob/master/car.ipynb\" target=\"_parent\"><img src=\"https://colab.research.google.com/assets/colab-badge.svg\" alt=\"Open In Colab\"/></a>"
      ]
    },
    {
      "cell_type": "code",
      "metadata": {
        "id": "EkwhgICpgZlW",
        "colab_type": "code",
        "colab": {}
      },
      "source": [
        "from google.colab import drive\n",
        "import pandas as pd\n",
        "import numpy as np\n",
        "pd.set_option('display.max_rows', None)\n",
        "np.set_printoptions(threshold=np.inf)#不要かも\n",
        "#import codecs\n",
        "\n",
        "drive.mount('/content/drive')"
      ],
      "execution_count": 0,
      "outputs": []
    },
    {
      "cell_type": "code",
      "metadata": {
        "id": "5z70XVhpZ1Z3",
        "colab_type": "code",
        "colab": {}
      },
      "source": [
        "cd drive/My\\ Drive/ML/data/car/\n",
        "ls"
      ],
      "execution_count": 0,
      "outputs": []
    },
    {
      "cell_type": "code",
      "metadata": {
        "id": "PbNTMFZozZ9m",
        "colab_type": "code",
        "colab": {}
      },
      "source": [
        "#ファイルを開く\n",
        "tr = pd.read_csv(\"train.tsv\",delimiter='\\t')\n",
        "test = pd.read_csv(\"test.tsv\",delimiter='\\t')\n",
        "#nullが含まれるかどうかの確認\n",
        "print(tr.isnull().any())\n",
        "print(test.isnull().any())"
      ],
      "execution_count": 0,
      "outputs": []
    },
    {
      "cell_type": "code",
      "metadata": {
        "id": "dNKkFpE9zQ4D",
        "colab_type": "code",
        "colab": {}
      },
      "source": [
        "#print(tr)\n",
        "tr.head()#上から5件だけ、項目の省略なしで確認できる"
      ],
      "execution_count": 0,
      "outputs": []
    },
    {
      "cell_type": "code",
      "metadata": {
        "id": "TIE4pxxzcBnn",
        "colab_type": "code",
        "colab": {}
      },
      "source": [
        "#決定木の読み込み\n",
        "#https://www.codexa.net/kaggle-titanic-beginner/\n",
        "from sklearn import tree"
      ],
      "execution_count": 0,
      "outputs": []
    },
    {
      "cell_type": "code",
      "metadata": {
        "id": "iWnBJQJLcxJq",
        "colab_type": "code",
        "colab": {}
      },
      "source": [
        "#\n",
        "#目的変数と説明変数の値を取得\n",
        "#horsepowerとcar nameを使わないでみた\n",
        "#小数だと決定木でエラーになるので、とりあえず全部整数にする。(.astype(\"i8\"))\n",
        "target = tr[\"mpg\"].values.astype(\"i8\")\n",
        "features_one = tr[[\"cylinders\", \"displacement\", \"weight\",\"acceleration\",\"model year\",\"origin\"]].values.astype(\"i8\")\n",
        "\n",
        "# 決定木の作成\n",
        "my_tree_one = tree.DecisionTreeClassifier()\n",
        "my_tree_one = my_tree_one.fit(features_one, target)"
      ],
      "execution_count": 0,
      "outputs": []
    },
    {
      "cell_type": "code",
      "metadata": {
        "id": "hFbJnBFjmkKp",
        "colab_type": "code",
        "colab": {}
      },
      "source": [
        "# 「test」の説明変数の値を取得\n",
        "#ここもとりあえず浮動小数を整数に\n",
        "test_features = test[[\"cylinders\", \"displacement\", \"weight\",\"acceleration\",\"model year\",\"origin\"]].values.astype(\"i8\")\n",
        " \n",
        "# 「test」の説明変数を使って「my_tree_one」のモデルで予測\n",
        "my_prediction = my_tree_one.predict(test_features)"
      ],
      "execution_count": 0,
      "outputs": []
    },
    {
      "cell_type": "code",
      "metadata": {
        "id": "ufUjqO7EdZaS",
        "colab_type": "code",
        "colab": {}
      },
      "source": [
        "# 予測データのサイズを確認\n",
        "my_prediction.shape"
      ],
      "execution_count": 0,
      "outputs": []
    },
    {
      "cell_type": "code",
      "metadata": {
        "id": "qTOHcVHZnUwk",
        "colab_type": "code",
        "colab": {}
      },
      "source": [
        "#予測データの中身を確認\n",
        "print(my_prediction)"
      ],
      "execution_count": 0,
      "outputs": []
    },
    {
      "cell_type": "code",
      "metadata": {
        "id": "c5j8ke8ue-fI",
        "colab_type": "code",
        "colab": {}
      },
      "source": [
        "#csv作成\n",
        "\n",
        "# idを取得\n",
        "DataId = np.array(test[\"id\"]).astype(int)\n",
        " \n",
        "# my_prediction(予測データ）とPassengerIdをデータフレームへ落とし込む\n",
        "my_solution = pd.DataFrame(my_prediction, DataId, columns = [\"mpg\"])\n",
        " \n",
        "# my_tree_one.csvとして書き出し\n",
        "my_solution.to_csv(\"sample_submit.csv\",header = False ,index_label = [\"id\"])\n",
        " "
      ],
      "execution_count": 0,
      "outputs": []
    }
  ]
}